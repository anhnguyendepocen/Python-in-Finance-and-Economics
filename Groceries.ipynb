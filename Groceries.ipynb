{
 "cells": [
  {
   "cell_type": "markdown",
   "metadata": {},
   "source": [
    "# Getting your groceries\n",
    "A given consumer's utility function says something about how happy that consumer is with a certain set of goods. If x is a certain good and y is another good, such a utility function can look like\n",
    "$$ U(x, y) = w_xx + w_yy, $$\n",
    "where $w_x$ and $w_y$ are values placed on good x and y, respectively, by the consumer. This is an example of a linear utility function. There are many other forms. A utility function gives the \"happpiness level\" of a consumer as a number. \n",
    "\n",
    "Utilities are *ordinal* and not *cardinal*. This can be illustated by an example. Say one consumer has a utility of 6 and another as utlity of 3. We are only allowed to say that the first consumer has higher utility than the other, but not that the utility is twice as big."
   ]
  },
  {
   "cell_type": "code",
   "execution_count": null,
   "metadata": {
    "collapsed": true
   },
   "outputs": [],
   "source": []
  }
 ],
 "metadata": {
  "kernelspec": {
   "display_name": "Python 3",
   "language": "python",
   "name": "python3"
  },
  "language_info": {
   "codemirror_mode": {
    "name": "ipython",
    "version": 3
   },
   "file_extension": ".py",
   "mimetype": "text/x-python",
   "name": "python",
   "nbconvert_exporter": "python",
   "pygments_lexer": "ipython3",
   "version": "3.6.1"
  }
 },
 "nbformat": 4,
 "nbformat_minor": 2
}
