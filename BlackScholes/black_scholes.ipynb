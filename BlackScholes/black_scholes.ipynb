{
 "cells": [
  {
   "cell_type": "markdown",
   "metadata": {},
   "source": [
    "# The Black-Scholes Model\n",
    "\n",
    "## Black-Scholes-Merton PDE\n",
    "Perhaps one of the most known relationships in finance is the Black-Scholes-Merton (BSM) equation. The BSM equation is a partial differential equation, which describes the price of an option over time. The equation is\n",
    "$$ \\frac{\\partial V}{\\partial t} +\\frac{1}{2}\\sigma^2 S^2 \\frac{\\partial V^2}{\\partial S^2} + rS \\frac{\\partial V}{\\partial S} - rV = 0, $$\n",
    "where $V = V(S,t)$ is the price of the derivative as a function of time and stock price, $S$ is the price of the underlying stock, $\\sigma$ is the volatility of return of the underlying asset and $r$ is the annualised risk-free interest rate, continuoulsy compounded.\n",
    "The most interesting aspect of this eqution is that one should, in theory, be able to hedge an investment by buying and selling the underlying asset in just the right way and consequently eliminate all risk. This hedge, in turn, implies that there must be only one right price for the option.\n",
    "\n",
    "## Black-Scholes Formula\n",
    "The Black-Scholes (BS) formula calculates the price of a European option. A European option is an option that may be exercised only at the expiration date. This price is consistent with the BSM PDE above, as the BS formula is obtained by solving the BSM PDE for the correct terminal and boundary conditions.\n",
    "The value of the underlying stock $S$ at maturity time $T$ is\n",
    "$$ S_T = S_0 e^{(r - \\frac{1}{2}\\sigma^2)T + \\sigma\\sqrt{T}z}, $$\n",
    "where $z$ is is a standard normally distrubuted stochastic variable."
   ]
  },
  {
   "cell_type": "markdown",
   "metadata": {},
   "source": []
  }
 ],
 "metadata": {
  "kernelspec": {
   "display_name": "Python 3",
   "language": "python",
   "name": "python3"
  },
  "language_info": {
   "codemirror_mode": {
    "name": "ipython",
    "version": 3
   },
   "file_extension": ".py",
   "mimetype": "text/x-python",
   "name": "python",
   "nbconvert_exporter": "python",
   "pygments_lexer": "ipython3",
   "version": "3.6.1"
  }
 },
 "nbformat": 4,
 "nbformat_minor": 2
}
