{
 "cells": [
  {
   "cell_type": "markdown",
   "metadata": {},
   "source": [
    "# Pandas and friends\n",
    "`pandas` is an open-source library for Python that provides high-performance and easy-to-use data structures. `pandas` is widely used in finance and economics because of its time series data analysis capabilities. It also has functunality for reading from and writing to different commonly used file formats, reshaping and pivoting of data sets as well as data splicing, merging and joining. The name \"pandas\" stems from \"panel data\", an econometrics term for multidimensional, structured data sets. Moreover, a `pandas` spin-off called `pandas-datareader` allows one to easily import data from online servers. This includes, but is not limitied to, stock information from Yahoo! and Google, economic indicators from the World Bank and statistics from OECD and Eurostat.\n",
    "\n",
    "## Pandas datastructures\n",
    "The pandas library makes use of some special data structures: `Series` and `DataFrame`. We will have a quick look at them now. First we need to import the necessities"
   ]
  },
  {
   "cell_type": "code",
   "execution_count": 157,
   "metadata": {
    "collapsed": true
   },
   "outputs": [],
   "source": [
    "import pandas as pd\n",
    "import numpy as np\n",
    "import matplotlib.pyplot as plt"
   ]
  },
  {
   "cell_type": "markdown",
   "metadata": {},
   "source": [
    "### Series\n",
    "\n",
    "`Series` is a one-dimensional labeled array capable of holding any data type. The axis lables are collectively reffered to as the **index**. Now to construct a `Series` filled with random numbers and index them with letters."
   ]
  },
  {
   "cell_type": "code",
   "execution_count": 158,
   "metadata": {},
   "outputs": [
    {
     "data": {
      "text/plain": [
       "a    2.129112\n",
       "b    0.356481\n",
       "c    0.220346\n",
       "d    1.014687\n",
       "e    0.743911\n",
       "dtype: float64"
      ]
     },
     "execution_count": 158,
     "metadata": {},
     "output_type": "execute_result"
    }
   ],
   "source": [
    "s = pd.Series(np.random.randn(5), index=['a', 'b', 'c', 'd', 'e'])\n",
    "s"
   ]
  },
  {
   "cell_type": "markdown",
   "metadata": {},
   "source": [
    "If you do not provide an index for the `Series`, it will be numeric by default. Numerous operations can be applied the `Series` data structure."
   ]
  },
  {
   "cell_type": "code",
   "execution_count": 159,
   "metadata": {},
   "outputs": [
    {
     "data": {
      "text/plain": [
       "a             2.129112\n",
       "d             1.014687\n",
       "e             0.743911\n",
       "f             2.000000\n",
       "something    42.000000\n",
       "dtype: float64"
      ]
     },
     "execution_count": 159,
     "metadata": {},
     "output_type": "execute_result"
    }
   ],
   "source": [
    "# Setting a new value with index \"f\"\n",
    "s['f'] = 2\n",
    "\n",
    "# Setting a new value with index \"something\"\n",
    "s['something'] = 42\n",
    "\n",
    "# Displaying everything larger than 0.5\n",
    "s[s > 0.5]"
   ]
  },
  {
   "cell_type": "code",
   "execution_count": 160,
   "metadata": {},
   "outputs": [
    {
     "data": {
      "text/plain": [
       "count     7.000000\n",
       "mean      6.923505\n",
       "std      15.485193\n",
       "min       0.220346\n",
       "25%       0.550196\n",
       "50%       1.014687\n",
       "75%       2.064556\n",
       "max      42.000000\n",
       "dtype: float64"
      ]
     },
     "execution_count": 160,
     "metadata": {},
     "output_type": "execute_result"
    }
   ],
   "source": [
    "# Descriptive statistics\n",
    "s.describe()"
   ]
  },
  {
   "cell_type": "markdown",
   "metadata": {},
   "source": [
    "### DataFrame\n",
    "`DataFrame` is a 2-dimensional labeled data structure with columns of potentially different types. One can think of it like a spreadsheet or SQL table. Here is an example where we put a 6x4 `numpy` array into a `DataFrame` and indexed it with dates from a `DatetimeIndex` object"
   ]
  },
  {
   "cell_type": "code",
   "execution_count": 161,
   "metadata": {},
   "outputs": [
    {
     "data": {
      "text/plain": [
       "DatetimeIndex(['2017-01-01', '2017-01-02', '2017-01-03', '2017-01-04',\n",
       "               '2017-01-05', '2017-01-06'],\n",
       "              dtype='datetime64[ns]', freq='D')"
      ]
     },
     "execution_count": 161,
     "metadata": {},
     "output_type": "execute_result"
    }
   ],
   "source": [
    "# Constructing DateTimeIndex object for lates use\n",
    "dates = pd.date_range('20170101', periods=6)\n",
    "\n",
    "# What is this?\n",
    "dates"
   ]
  },
  {
   "cell_type": "code",
   "execution_count": 162,
   "metadata": {},
   "outputs": [
    {
     "data": {
      "text/html": [
       "<div>\n",
       "<style>\n",
       "    .dataframe thead tr:only-child th {\n",
       "        text-align: right;\n",
       "    }\n",
       "\n",
       "    .dataframe thead th {\n",
       "        text-align: left;\n",
       "    }\n",
       "\n",
       "    .dataframe tbody tr th {\n",
       "        vertical-align: top;\n",
       "    }\n",
       "</style>\n",
       "<table border=\"1\" class=\"dataframe\">\n",
       "  <thead>\n",
       "    <tr style=\"text-align: right;\">\n",
       "      <th></th>\n",
       "      <th>A</th>\n",
       "      <th>B</th>\n",
       "      <th>C</th>\n",
       "      <th>D</th>\n",
       "    </tr>\n",
       "  </thead>\n",
       "  <tbody>\n",
       "    <tr>\n",
       "      <th>2017-01-01</th>\n",
       "      <td>-0.919507</td>\n",
       "      <td>0.578809</td>\n",
       "      <td>0.219564</td>\n",
       "      <td>1.578454</td>\n",
       "    </tr>\n",
       "    <tr>\n",
       "      <th>2017-01-02</th>\n",
       "      <td>0.965957</td>\n",
       "      <td>0.972265</td>\n",
       "      <td>-0.085411</td>\n",
       "      <td>-0.037897</td>\n",
       "    </tr>\n",
       "    <tr>\n",
       "      <th>2017-01-03</th>\n",
       "      <td>-1.019471</td>\n",
       "      <td>-0.684311</td>\n",
       "      <td>-0.482317</td>\n",
       "      <td>0.804969</td>\n",
       "    </tr>\n",
       "    <tr>\n",
       "      <th>2017-01-04</th>\n",
       "      <td>1.268615</td>\n",
       "      <td>-0.070943</td>\n",
       "      <td>0.676486</td>\n",
       "      <td>0.492841</td>\n",
       "    </tr>\n",
       "    <tr>\n",
       "      <th>2017-01-05</th>\n",
       "      <td>0.071284</td>\n",
       "      <td>1.812289</td>\n",
       "      <td>-1.144690</td>\n",
       "      <td>0.198694</td>\n",
       "    </tr>\n",
       "    <tr>\n",
       "      <th>2017-01-06</th>\n",
       "      <td>1.556257</td>\n",
       "      <td>-0.772400</td>\n",
       "      <td>3.068715</td>\n",
       "      <td>0.130333</td>\n",
       "    </tr>\n",
       "  </tbody>\n",
       "</table>\n",
       "</div>"
      ],
      "text/plain": [
       "                   A         B         C         D\n",
       "2017-01-01 -0.919507  0.578809  0.219564  1.578454\n",
       "2017-01-02  0.965957  0.972265 -0.085411 -0.037897\n",
       "2017-01-03 -1.019471 -0.684311 -0.482317  0.804969\n",
       "2017-01-04  1.268615 -0.070943  0.676486  0.492841\n",
       "2017-01-05  0.071284  1.812289 -1.144690  0.198694\n",
       "2017-01-06  1.556257 -0.772400  3.068715  0.130333"
      ]
     },
     "execution_count": 162,
     "metadata": {},
     "output_type": "execute_result"
    }
   ],
   "source": [
    "# Constructing DataFrame\n",
    "df = pd.DataFrame(np.random.randn(6,4), index=dates, columns=list('ABCD'))\n",
    "\n",
    "# Showing\n",
    "df"
   ]
  },
  {
   "cell_type": "code",
   "execution_count": 163,
   "metadata": {},
   "outputs": [
    {
     "data": {
      "text/html": [
       "<div>\n",
       "<style>\n",
       "    .dataframe thead tr:only-child th {\n",
       "        text-align: right;\n",
       "    }\n",
       "\n",
       "    .dataframe thead th {\n",
       "        text-align: left;\n",
       "    }\n",
       "\n",
       "    .dataframe tbody tr th {\n",
       "        vertical-align: top;\n",
       "    }\n",
       "</style>\n",
       "<table border=\"1\" class=\"dataframe\">\n",
       "  <thead>\n",
       "    <tr style=\"text-align: right;\">\n",
       "      <th></th>\n",
       "      <th>A</th>\n",
       "      <th>B</th>\n",
       "      <th>C</th>\n",
       "      <th>D</th>\n",
       "    </tr>\n",
       "  </thead>\n",
       "  <tbody>\n",
       "    <tr>\n",
       "      <th>count</th>\n",
       "      <td>6.000000</td>\n",
       "      <td>6.000000</td>\n",
       "      <td>6.000000</td>\n",
       "      <td>6.000000</td>\n",
       "    </tr>\n",
       "    <tr>\n",
       "      <th>mean</th>\n",
       "      <td>0.320523</td>\n",
       "      <td>0.305951</td>\n",
       "      <td>0.375391</td>\n",
       "      <td>0.527899</td>\n",
       "    </tr>\n",
       "    <tr>\n",
       "      <th>std</th>\n",
       "      <td>1.116950</td>\n",
       "      <td>1.007273</td>\n",
       "      <td>1.457915</td>\n",
       "      <td>0.594680</td>\n",
       "    </tr>\n",
       "    <tr>\n",
       "      <th>min</th>\n",
       "      <td>-1.019471</td>\n",
       "      <td>-0.772400</td>\n",
       "      <td>-1.144690</td>\n",
       "      <td>-0.037897</td>\n",
       "    </tr>\n",
       "    <tr>\n",
       "      <th>25%</th>\n",
       "      <td>-0.671809</td>\n",
       "      <td>-0.530969</td>\n",
       "      <td>-0.383090</td>\n",
       "      <td>0.147423</td>\n",
       "    </tr>\n",
       "    <tr>\n",
       "      <th>50%</th>\n",
       "      <td>0.518621</td>\n",
       "      <td>0.253933</td>\n",
       "      <td>0.067077</td>\n",
       "      <td>0.345768</td>\n",
       "    </tr>\n",
       "    <tr>\n",
       "      <th>75%</th>\n",
       "      <td>1.192951</td>\n",
       "      <td>0.873901</td>\n",
       "      <td>0.562255</td>\n",
       "      <td>0.726937</td>\n",
       "    </tr>\n",
       "    <tr>\n",
       "      <th>max</th>\n",
       "      <td>1.556257</td>\n",
       "      <td>1.812289</td>\n",
       "      <td>3.068715</td>\n",
       "      <td>1.578454</td>\n",
       "    </tr>\n",
       "  </tbody>\n",
       "</table>\n",
       "</div>"
      ],
      "text/plain": [
       "              A         B         C         D\n",
       "count  6.000000  6.000000  6.000000  6.000000\n",
       "mean   0.320523  0.305951  0.375391  0.527899\n",
       "std    1.116950  1.007273  1.457915  0.594680\n",
       "min   -1.019471 -0.772400 -1.144690 -0.037897\n",
       "25%   -0.671809 -0.530969 -0.383090  0.147423\n",
       "50%    0.518621  0.253933  0.067077  0.345768\n",
       "75%    1.192951  0.873901  0.562255  0.726937\n",
       "max    1.556257  1.812289  3.068715  1.578454"
      ]
     },
     "execution_count": 163,
     "metadata": {},
     "output_type": "execute_result"
    }
   ],
   "source": [
    "# Show statistic summary of data\n",
    "df.describe()"
   ]
  },
  {
   "cell_type": "code",
   "execution_count": 164,
   "metadata": {},
   "outputs": [
    {
     "data": {
      "text/html": [
       "<div>\n",
       "<style>\n",
       "    .dataframe thead tr:only-child th {\n",
       "        text-align: right;\n",
       "    }\n",
       "\n",
       "    .dataframe thead th {\n",
       "        text-align: left;\n",
       "    }\n",
       "\n",
       "    .dataframe tbody tr th {\n",
       "        vertical-align: top;\n",
       "    }\n",
       "</style>\n",
       "<table border=\"1\" class=\"dataframe\">\n",
       "  <thead>\n",
       "    <tr style=\"text-align: right;\">\n",
       "      <th></th>\n",
       "      <th>A</th>\n",
       "      <th>B</th>\n",
       "      <th>C</th>\n",
       "      <th>D</th>\n",
       "    </tr>\n",
       "  </thead>\n",
       "  <tbody>\n",
       "    <tr>\n",
       "      <th>2017-01-06</th>\n",
       "      <td>1.556257</td>\n",
       "      <td>-0.772400</td>\n",
       "      <td>3.068715</td>\n",
       "      <td>0.130333</td>\n",
       "    </tr>\n",
       "    <tr>\n",
       "      <th>2017-01-03</th>\n",
       "      <td>-1.019471</td>\n",
       "      <td>-0.684311</td>\n",
       "      <td>-0.482317</td>\n",
       "      <td>0.804969</td>\n",
       "    </tr>\n",
       "    <tr>\n",
       "      <th>2017-01-04</th>\n",
       "      <td>1.268615</td>\n",
       "      <td>-0.070943</td>\n",
       "      <td>0.676486</td>\n",
       "      <td>0.492841</td>\n",
       "    </tr>\n",
       "    <tr>\n",
       "      <th>2017-01-01</th>\n",
       "      <td>-0.919507</td>\n",
       "      <td>0.578809</td>\n",
       "      <td>0.219564</td>\n",
       "      <td>1.578454</td>\n",
       "    </tr>\n",
       "    <tr>\n",
       "      <th>2017-01-02</th>\n",
       "      <td>0.965957</td>\n",
       "      <td>0.972265</td>\n",
       "      <td>-0.085411</td>\n",
       "      <td>-0.037897</td>\n",
       "    </tr>\n",
       "    <tr>\n",
       "      <th>2017-01-05</th>\n",
       "      <td>0.071284</td>\n",
       "      <td>1.812289</td>\n",
       "      <td>-1.144690</td>\n",
       "      <td>0.198694</td>\n",
       "    </tr>\n",
       "  </tbody>\n",
       "</table>\n",
       "</div>"
      ],
      "text/plain": [
       "                   A         B         C         D\n",
       "2017-01-06  1.556257 -0.772400  3.068715  0.130333\n",
       "2017-01-03 -1.019471 -0.684311 -0.482317  0.804969\n",
       "2017-01-04  1.268615 -0.070943  0.676486  0.492841\n",
       "2017-01-01 -0.919507  0.578809  0.219564  1.578454\n",
       "2017-01-02  0.965957  0.972265 -0.085411 -0.037897\n",
       "2017-01-05  0.071284  1.812289 -1.144690  0.198694"
      ]
     },
     "execution_count": 164,
     "metadata": {},
     "output_type": "execute_result"
    }
   ],
   "source": [
    "# Sorting by value\n",
    "df.sort_values(by='B')"
   ]
  },
  {
   "cell_type": "code",
   "execution_count": 165,
   "metadata": {},
   "outputs": [
    {
     "data": {
      "text/html": [
       "<div>\n",
       "<style>\n",
       "    .dataframe thead tr:only-child th {\n",
       "        text-align: right;\n",
       "    }\n",
       "\n",
       "    .dataframe thead th {\n",
       "        text-align: left;\n",
       "    }\n",
       "\n",
       "    .dataframe tbody tr th {\n",
       "        vertical-align: top;\n",
       "    }\n",
       "</style>\n",
       "<table border=\"1\" class=\"dataframe\">\n",
       "  <thead>\n",
       "    <tr style=\"text-align: right;\">\n",
       "      <th></th>\n",
       "      <th>B</th>\n",
       "      <th>D</th>\n",
       "    </tr>\n",
       "  </thead>\n",
       "  <tbody>\n",
       "    <tr>\n",
       "      <th>2017-01-02</th>\n",
       "      <td>0.972265</td>\n",
       "      <td>-0.037897</td>\n",
       "    </tr>\n",
       "    <tr>\n",
       "      <th>2017-01-03</th>\n",
       "      <td>-0.684311</td>\n",
       "      <td>0.804969</td>\n",
       "    </tr>\n",
       "    <tr>\n",
       "      <th>2017-01-04</th>\n",
       "      <td>-0.070943</td>\n",
       "      <td>0.492841</td>\n",
       "    </tr>\n",
       "  </tbody>\n",
       "</table>\n",
       "</div>"
      ],
      "text/plain": [
       "                   B         D\n",
       "2017-01-02  0.972265 -0.037897\n",
       "2017-01-03 -0.684311  0.804969\n",
       "2017-01-04 -0.070943  0.492841"
      ]
     },
     "execution_count": 165,
     "metadata": {},
     "output_type": "execute_result"
    }
   ],
   "source": [
    "# Label slicing\n",
    "df.loc['20170102':'20170104', ['B','D']]"
   ]
  },
  {
   "cell_type": "markdown",
   "metadata": {},
   "source": [
    "## Importing Stock Data with pandas-datareader\n",
    "`pandas-datareader` enables one to import data from online databases such as Yahoo! Finance, Google Finace, Quandl, FRED, OECD and the World Bank. Functions from `pandas_datareader.data` and `pandas_datareader.wb` extract the data from the various Internet source into a pandas `DataFrame`. As an intro to this very powerful tool, let us get historical stock prices from Yahoo! Finance. "
   ]
  },
  {
   "cell_type": "code",
   "execution_count": 166,
   "metadata": {},
   "outputs": [
    {
     "name": "stdout",
     "output_type": "stream",
     "text": [
      "American Airlines\n"
     ]
    },
    {
     "data": {
      "text/plain": [
       "Open           38.39\n",
       "High           38.78\n",
       "Low            37.55\n",
       "Close          37.63\n",
       "Volume    9065626.00\n",
       "Name: 2016-10-04 00:00:00, dtype: float64"
      ]
     },
     "execution_count": 166,
     "metadata": {},
     "output_type": "execute_result"
    }
   ],
   "source": [
    "import pandas_datareader.data as web\n",
    "import datetime\n",
    "\n",
    "# Start and end date for data import.\n",
    "start_date = datetime.datetime(2016, 1, 1)\n",
    "end_date = datetime.datetime(2016, 12, 31)\n",
    "\n",
    "# Importing data. \n",
    "# First and second argument is stock ticker and source respectively\n",
    "american_airlines = web.DataReader(\"AAL\", 'google', start_date, end_date)\n",
    "\n",
    "# Showing data from a particular day\n",
    "print(\"American Airlines\")\n",
    "american_airlines.loc['20161004']"
   ]
  },
  {
   "cell_type": "markdown",
   "metadata": {},
   "source": [
    "The \"thing\" we have just imported has the added benefit of being a `pandas` `DataFrame` object. As one can clearly see, we have five different values for each index, which is the date; Open, High, Low, Close and Volume. \"Open\" is the price of the stock at the start of the day when the stock markets opens, \"High\" and \"Low\" are the highest and lowest price of the stock during the day, \"Close\" is the price of the stock as the market closes and \"Volume\" is the number of stocks that has been trading during the day. "
   ]
  },
  {
   "cell_type": "code",
   "execution_count": 167,
   "metadata": {},
   "outputs": [
    {
     "data": {
      "text/plain": [
       "count    252.000000\n",
       "mean      38.183810\n",
       "std        5.045975\n",
       "min       25.270000\n",
       "25%       34.960000\n",
       "50%       38.275000\n",
       "75%       41.027500\n",
       "max       49.640000\n",
       "Name: Close, dtype: float64"
      ]
     },
     "execution_count": 167,
     "metadata": {},
     "output_type": "execute_result"
    }
   ],
   "source": [
    "# Getting descriptive statistics of closing prices\n",
    "american_airlines.loc[:,'Close'].describe()"
   ]
  },
  {
   "cell_type": "code",
   "execution_count": 168,
   "metadata": {},
   "outputs": [
    {
     "data": {
      "image/png": "[encoded data removed]",
      "text/plain": [
       "<matplotlib.figure.Figure at 0x7fc94f7a02b0>"
      ]
     },
     "metadata": {},
     "output_type": "display_data"
    }
   ],
   "source": [
    "# Plotting closing prices\n",
    "american_airlines.loc[:,'Close'].plot()\n",
    "plt.title(\"American Airlines, 2016\")\n",
    "plt.show()"
   ]
  },
  {
   "cell_type": "code",
   "execution_count": 169,
   "metadata": {},
   "outputs": [
    {
     "data": {
      "image/png": "[encoded data removed]",
      "text/plain": [
       "<matplotlib.figure.Figure at 0x7fc95c108f98>"
      ]
     },
     "metadata": {},
     "output_type": "display_data"
    }
   ],
   "source": [
    "# Plotting close, high and low for December 2016\n",
    "american_airlines.loc['20161201':'20161231',['Open', 'Close', 'High', 'Low']].plot()\n",
    "plt.title(\"American Airlines, Dec 2016\")\n",
    "plt.show()"
   ]
  },
  {
   "cell_type": "markdown",
   "metadata": {},
   "source": [
    "This plot shows the opening and closing price of the stock, as well as the highest and lowest price during the day, for American airways in December of 2016. This plot is very messy, which why a \"candlestick\" plot is very common when plotting historical stock prices. This can be a bit tricky, as there is no built-in function in `pandas`, but is definitely possible. One must convert the dates to float values instead and use `matplotlib`."
   ]
  },
  {
   "cell_type": "code",
   "execution_count": 170,
   "metadata": {},
   "outputs": [
    {
     "data": {
      "image/png": "[encoded data removed]",
      "text/plain": [
       "<matplotlib.figure.Figure at 0x7fc95d86cac8>"
      ]
     },
     "metadata": {},
     "output_type": "display_data"
    }
   ],
   "source": [
    "# Importing\n",
    "from matplotlib.finance import candlestick_ohlc\n",
    "from matplotlib import dates as mdates\n",
    "\n",
    "# Creating new DataFrame for plotting Open, High, Low, Close candlesticks\n",
    "aal_ohlc = american_airlines['20161201':'20161231'].reset_index()\n",
    "\n",
    "# Removing volume column\n",
    "aal_ohlc.loc[:,['Date', 'Open', 'High', 'Low', 'Close']]\n",
    "\n",
    "# Converting dates column to float values\n",
    "aal_ohlc['Date'] = aal_ohlc['Date'].map(mdates.date2num)\n",
    "\n",
    "# Creating something to plot on\n",
    "fig, ax = plt.subplots()\n",
    "\n",
    "# Configuring x-axis to show dates\n",
    "ax.xaxis_date()\n",
    "\n",
    "# Plotting\n",
    "candlestick_ohlc(ax, aal_ohlc.values)\n",
    "plt.title(\"American Airlines, Candlestick, Dec '16\")\n",
    "\n",
    "plt.show()"
   ]
  },
  {
   "cell_type": "markdown",
   "metadata": {},
   "source": [
    "This chart gives the same information to the analyst than as the one above. Each day is represented by a candlestick with a thick center (wax) and thin lines (wick) at the top and/or bottom. They also come in different colours; in this case they are red and black, but they may also be red and green, black and white or something else. A red candlestick, in this case, indicates that the stock has depreciated during the day (fallen), and a black candlestick indicates that the stock has appreciated (risen). The \"wax\" of the candlestick gives the opening and closing price of the stock. If the stock has the apprecieated the opening price is at the bottom of the wax and closing price on top. Vice versa for a depreciated stock; opening price on top of the wax and closing at the bottom. The ends of the \"wicks\" of the candlessticks indicates the highes and lowest stock price during intraday trading. This kind of chart may seem a bit strange the first time you see it, but one quickly becomes accustomed to it and realises the ease of used compared to the more traditional line plot above."
   ]
  },
  {
   "cell_type": "markdown",
   "metadata": {},
   "source": [
    "## Forecasting a Stock Price with Statsmodels\n",
    "Forecasting a stock price holds a certain appeal. If one is able to do so accurately, one has a path towards quick and easy riches. Regrettably, many have tried and failed to \"crack the code\" at the stock market. Nevertheless, the venture has its appeal and we will have a stab at it here.\n",
    "\n",
    "We shall try to forecast the stock price of American Airlines by an ordinary least squares regression, employing the `statsmodels` module for Python. `statsmodels` provides classes and functions for the estimation of many different statistical models, as well as for conducting statistical tests, and statistical data exploration. The package is open source under a [BSD](https://en.wikipedia.org/wiki/BSD_licenses#3-clause_license_.28.22BSD_License_2.0.22.2C_.22Revised_BSD_License.22.2C_.22New_BSD_License.22.2C_or_.22Modified_BSD_License.22.29) license. Moreover, `statsmodels` works very well with `numpy`, `matplotlib` and `pandas`, which is perfect for us\n",
    "\n",
    "In our task at hand we will first need to consider what factors may reasonably influence the stock price of American Airlines. In other words, what may make investors want to buy or sell the stock, thereby increasing or decreasing demand for it, and in turn making the price go up or down? We will look at several such factors\n",
    "* **Jet Fuel Prices**: if jet fuel prices increase it is reasonable to assume the the cost of the airline increases, making the stock price go down. It is possible for an airline to hedge against the risk of a possilbe fuel price hike, but we will assume that AA made no such decision. Weekly data is available from Federal Reserve Bank of St. Louis (FRED). The data is for Kerosene-Type Jet Fuel Prices on the US Gulf Coast. We assume that this is representative for the rest of the US jet fuel market.\n",
    "* **Industrial Prodcution Index**: the Industrial Production Index is an economic indicator that measures real output for all facilities located in the US manufacturing, mining, ellectric and gas utilities. It might be strange to try to forecast the price of airline stock with this indicator. However, the sectors contained in this index are highly sensitive to interest rates and consumer demand. This makes industrial production an important tool for predicting Gross Domestic Product (GDP). The reason for picking industrial production over GDP is because industrial production is reported every month, while GDP is only reported once each quarter. An increasing GDP should have a positive effect on the share price of American Airlines. One would assume that people are travelling more when the economy is booming - either for business or pleasure. The data is available for FRED.\n",
    "* **Airline Fares**: if the price of airline tickets has gone up overall, one should assume that this translates to higher revenue for AA, and vice versa. Monthly data is available from FRED. The data is the consumer price index (CPI) for airline fares for urban consumers.\n",
    "* **Number of Passengers Travelled**: when there are more passengers overall one would assume that this translates into more revenue for AA and therefore a higher stock price. Data for montly number of airline passengers on all US and foreign carriers is available from the Bureau of Transportation Statistics through Quandl."
   ]
  },
  {
   "cell_type": "code",
   "execution_count": 171,
   "metadata": {
    "collapsed": true
   },
   "outputs": [],
   "source": [
    "# Importing jet fuel price data from FRED\n",
    "fuel_price = web.DataReader(\"WJFUELUSGULF\", 'fred', start_date, end_date)\n",
    "\n",
    "# Import industrial production from FRED\n",
    "indpro = web.DataReader(\"INDPRO\", 'fred', start_date, end_date) \n",
    "\n",
    "# Importing airline fare CPI from FRED\n",
    "CPI_airline_fare = web.DataReader(\"CUSR0000SETG01\", 'fred', start_date, end_date)\n",
    "\n",
    "# Importing number of airline passengers from Quandl\n",
    "no_passengers = web.DataReader(\"BTS/AIRPASS\", 'quandl', start_date, end_date)"
   ]
  },
  {
   "cell_type": "markdown",
   "metadata": {},
   "source": [
    "We are face with an immediate problem. These `DataFrame` objects have diffenrent lengths! The stock prices are daily (but only business days), fuel prices are weekly and the rest is monthly. This is easy enough to fix, by reindexing all the `DateFrame`s with the same date range and filling in the missing days with the last known value by using the keyword argument `method='ffill'` of the `reindex()` function."
   ]
  },
  {
   "cell_type": "code",
   "execution_count": 172,
   "metadata": {},
   "outputs": [
    {
     "name": "stdout",
     "output_type": "stream",
     "text": [
      "Old length of DataFrame objects:\n",
      "252 53 12 12 12\n",
      "New length of DataFrame objects:\n",
      "366 366 366 366 366\n"
     ]
    }
   ],
   "source": [
    "# What are the length of the different DataFrame objects now?\n",
    "print(\"Old length of DataFrame objects:\")\n",
    "print(len(american_airlines), len(fuel_price), len(indpro),\\\n",
    "      len(CPI_airline_fare), len(no_passengers))\n",
    "\n",
    "# Creating date_range object, daily frequency\n",
    "dates = pd.date_range(start_date, end_date, freq='D')\n",
    "dates.name = 'Date'\n",
    "\n",
    "# Reindexing all DataFrames\n",
    "american_airlines = american_airlines.reindex(dates, method='ffill')\n",
    "fuel_price = fuel_price.reindex(dates, method='ffill')\n",
    "indpro = indpro.reindex(dates, method='ffill')\n",
    "CPI_airline_fare = CPI_airline_fare.reindex(dates, method='ffill')\n",
    "no_passengers = no_passengers.reindex(dates, method='ffill')\n",
    "\n",
    "print(\"New length of DataFrame objects:\")\n",
    "print(len(american_airlines), len(fuel_price), len(indpro),\\\n",
    "      len(CPI_airline_fare), len(no_passengers))"
   ]
  },
  {
   "cell_type": "markdown",
   "metadata": {},
   "source": [
    "Plotting the number of passengers gives a good illustration of what we have just done. In the figure below one can clearly see how the monthly data points have been copied to every day in the year."
   ]
  },
  {
   "cell_type": "code",
   "execution_count": 173,
   "metadata": {},
   "outputs": [
    {
     "data": {
      "image/png": "[encoded data removed]",
      "text/plain": [
       "<matplotlib.figure.Figure at 0x7fc94fe85b70>"
      ]
     },
     "metadata": {},
     "output_type": "display_data"
    }
   ],
   "source": [
    "# Plotting no of passengers\n",
    "no_passengers.plot()\n",
    "plt.title(\"No of passengers\")\n",
    "plt.show()"
   ]
  },
  {
   "cell_type": "markdown",
   "metadata": {},
   "source": [
    "The keen observer may have spotted another potential problem - the year starts on New Years Day, which is a public holiday and the stock market is therefore closed. Will there be stock prices for the first day?"
   ]
  },
  {
   "cell_type": "code",
   "execution_count": 174,
   "metadata": {},
   "outputs": [
    {
     "data": {
      "text/html": [
       "<div>\n",
       "<style>\n",
       "    .dataframe thead tr:only-child th {\n",
       "        text-align: right;\n",
       "    }\n",
       "\n",
       "    .dataframe thead th {\n",
       "        text-align: left;\n",
       "    }\n",
       "\n",
       "    .dataframe tbody tr th {\n",
       "        vertical-align: top;\n",
       "    }\n",
       "</style>\n",
       "<table border=\"1\" class=\"dataframe\">\n",
       "  <thead>\n",
       "    <tr style=\"text-align: right;\">\n",
       "      <th></th>\n",
       "      <th>Open</th>\n",
       "      <th>High</th>\n",
       "      <th>Low</th>\n",
       "      <th>Close</th>\n",
       "      <th>Volume</th>\n",
       "    </tr>\n",
       "    <tr>\n",
       "      <th>Date</th>\n",
       "      <th></th>\n",
       "      <th></th>\n",
       "      <th></th>\n",
       "      <th></th>\n",
       "      <th></th>\n",
       "    </tr>\n",
       "  </thead>\n",
       "  <tbody>\n",
       "    <tr>\n",
       "      <th>2016-01-01</th>\n",
       "      <td>NaN</td>\n",
       "      <td>NaN</td>\n",
       "      <td>NaN</td>\n",
       "      <td>NaN</td>\n",
       "      <td>NaN</td>\n",
       "    </tr>\n",
       "    <tr>\n",
       "      <th>2016-01-02</th>\n",
       "      <td>NaN</td>\n",
       "      <td>NaN</td>\n",
       "      <td>NaN</td>\n",
       "      <td>NaN</td>\n",
       "      <td>NaN</td>\n",
       "    </tr>\n",
       "    <tr>\n",
       "      <th>2016-01-03</th>\n",
       "      <td>NaN</td>\n",
       "      <td>NaN</td>\n",
       "      <td>NaN</td>\n",
       "      <td>NaN</td>\n",
       "      <td>NaN</td>\n",
       "    </tr>\n",
       "    <tr>\n",
       "      <th>2016-01-04</th>\n",
       "      <td>41.29</td>\n",
       "      <td>41.35</td>\n",
       "      <td>40.30</td>\n",
       "      <td>40.91</td>\n",
       "      <td>12002531.0</td>\n",
       "    </tr>\n",
       "    <tr>\n",
       "      <th>2016-01-05</th>\n",
       "      <td>41.18</td>\n",
       "      <td>41.49</td>\n",
       "      <td>39.95</td>\n",
       "      <td>40.52</td>\n",
       "      <td>10514164.0</td>\n",
       "    </tr>\n",
       "  </tbody>\n",
       "</table>\n",
       "</div>"
      ],
      "text/plain": [
       "             Open   High    Low  Close      Volume\n",
       "Date                                              \n",
       "2016-01-01    NaN    NaN    NaN    NaN         NaN\n",
       "2016-01-02    NaN    NaN    NaN    NaN         NaN\n",
       "2016-01-03    NaN    NaN    NaN    NaN         NaN\n",
       "2016-01-04  41.29  41.35  40.30  40.91  12002531.0\n",
       "2016-01-05  41.18  41.49  39.95  40.52  10514164.0"
      ]
     },
     "execution_count": 174,
     "metadata": {},
     "output_type": "execute_result"
    }
   ],
   "source": [
    "american_airlines['2016-01-01':'2016-01-05']"
   ]
  },
  {
   "cell_type": "markdown",
   "metadata": {},
   "source": [
    "This problem needs to be fixed, but the solution is quite easy. The function `fillna()` will fill in the missing `NaN`s."
   ]
  },
  {
   "cell_type": "code",
   "execution_count": 175,
   "metadata": {},
   "outputs": [
    {
     "data": {
      "text/html": [
       "<div>\n",
       "<style>\n",
       "    .dataframe thead tr:only-child th {\n",
       "        text-align: right;\n",
       "    }\n",
       "\n",
       "    .dataframe thead th {\n",
       "        text-align: left;\n",
       "    }\n",
       "\n",
       "    .dataframe tbody tr th {\n",
       "        vertical-align: top;\n",
       "    }\n",
       "</style>\n",
       "<table border=\"1\" class=\"dataframe\">\n",
       "  <thead>\n",
       "    <tr style=\"text-align: right;\">\n",
       "      <th></th>\n",
       "      <th>Open</th>\n",
       "      <th>High</th>\n",
       "      <th>Low</th>\n",
       "      <th>Close</th>\n",
       "      <th>Volume</th>\n",
       "    </tr>\n",
       "    <tr>\n",
       "      <th>Date</th>\n",
       "      <th></th>\n",
       "      <th></th>\n",
       "      <th></th>\n",
       "      <th></th>\n",
       "      <th></th>\n",
       "    </tr>\n",
       "  </thead>\n",
       "  <tbody>\n",
       "    <tr>\n",
       "      <th>2016-01-01</th>\n",
       "      <td>41.29</td>\n",
       "      <td>41.35</td>\n",
       "      <td>40.30</td>\n",
       "      <td>40.91</td>\n",
       "      <td>12002531.0</td>\n",
       "    </tr>\n",
       "    <tr>\n",
       "      <th>2016-01-02</th>\n",
       "      <td>41.29</td>\n",
       "      <td>41.35</td>\n",
       "      <td>40.30</td>\n",
       "      <td>40.91</td>\n",
       "      <td>12002531.0</td>\n",
       "    </tr>\n",
       "    <tr>\n",
       "      <th>2016-01-03</th>\n",
       "      <td>41.29</td>\n",
       "      <td>41.35</td>\n",
       "      <td>40.30</td>\n",
       "      <td>40.91</td>\n",
       "      <td>12002531.0</td>\n",
       "    </tr>\n",
       "    <tr>\n",
       "      <th>2016-01-04</th>\n",
       "      <td>41.29</td>\n",
       "      <td>41.35</td>\n",
       "      <td>40.30</td>\n",
       "      <td>40.91</td>\n",
       "      <td>12002531.0</td>\n",
       "    </tr>\n",
       "    <tr>\n",
       "      <th>2016-01-05</th>\n",
       "      <td>41.18</td>\n",
       "      <td>41.49</td>\n",
       "      <td>39.95</td>\n",
       "      <td>40.52</td>\n",
       "      <td>10514164.0</td>\n",
       "    </tr>\n",
       "  </tbody>\n",
       "</table>\n",
       "</div>"
      ],
      "text/plain": [
       "             Open   High    Low  Close      Volume\n",
       "Date                                              \n",
       "2016-01-01  41.29  41.35  40.30  40.91  12002531.0\n",
       "2016-01-02  41.29  41.35  40.30  40.91  12002531.0\n",
       "2016-01-03  41.29  41.35  40.30  40.91  12002531.0\n",
       "2016-01-04  41.29  41.35  40.30  40.91  12002531.0\n",
       "2016-01-05  41.18  41.49  39.95  40.52  10514164.0"
      ]
     },
     "execution_count": 175,
     "metadata": {},
     "output_type": "execute_result"
    }
   ],
   "source": [
    "american_airlines = american_airlines.fillna(method='bfill')\n",
    "american_airlines['2016-01-01':'2016-01-05']"
   ]
  },
  {
   "cell_type": "markdown",
   "metadata": {},
   "source": [
    "Now it is almost time to make our model. First we will construct a new `DataFrame` of all the explanatory variabels."
   ]
  },
  {
   "cell_type": "code",
   "execution_count": 176,
   "metadata": {},
   "outputs": [
    {
     "data": {
      "text/html": [
       "<div>\n",
       "<style>\n",
       "    .dataframe thead tr:only-child th {\n",
       "        text-align: right;\n",
       "    }\n",
       "\n",
       "    .dataframe thead th {\n",
       "        text-align: left;\n",
       "    }\n",
       "\n",
       "    .dataframe tbody tr th {\n",
       "        vertical-align: top;\n",
       "    }\n",
       "</style>\n",
       "<table border=\"1\" class=\"dataframe\">\n",
       "  <thead>\n",
       "    <tr style=\"text-align: right;\">\n",
       "      <th></th>\n",
       "      <th>WJFUELUSGULF</th>\n",
       "      <th>INDPRO</th>\n",
       "      <th>CUSR0000SETG01</th>\n",
       "      <th>Total</th>\n",
       "    </tr>\n",
       "  </thead>\n",
       "  <tbody>\n",
       "    <tr>\n",
       "      <th>count</th>\n",
       "      <td>366.000000</td>\n",
       "      <td>366.000000</td>\n",
       "      <td>366.000000</td>\n",
       "      <td>3.660000e+02</td>\n",
       "    </tr>\n",
       "    <tr>\n",
       "      <th>mean</th>\n",
       "      <td>1.243087</td>\n",
       "      <td>103.106227</td>\n",
       "      <td>282.487194</td>\n",
       "      <td>7.763486e+07</td>\n",
       "    </tr>\n",
       "    <tr>\n",
       "      <th>std</th>\n",
       "      <td>0.179889</td>\n",
       "      <td>0.315664</td>\n",
       "      <td>6.071190</td>\n",
       "      <td>5.998151e+06</td>\n",
       "    </tr>\n",
       "    <tr>\n",
       "      <th>min</th>\n",
       "      <td>0.854000</td>\n",
       "      <td>102.526300</td>\n",
       "      <td>272.241000</td>\n",
       "      <td>6.551834e+07</td>\n",
       "    </tr>\n",
       "    <tr>\n",
       "      <th>25%</th>\n",
       "      <td>1.093000</td>\n",
       "      <td>102.889225</td>\n",
       "      <td>276.511750</td>\n",
       "      <td>7.548815e+07</td>\n",
       "    </tr>\n",
       "    <tr>\n",
       "      <th>50%</th>\n",
       "      <td>1.307000</td>\n",
       "      <td>103.145900</td>\n",
       "      <td>280.434000</td>\n",
       "      <td>7.860918e+07</td>\n",
       "    </tr>\n",
       "    <tr>\n",
       "      <th>75%</th>\n",
       "      <td>1.387000</td>\n",
       "      <td>103.217300</td>\n",
       "      <td>288.306000</td>\n",
       "      <td>8.326352e+07</td>\n",
       "    </tr>\n",
       "    <tr>\n",
       "      <th>max</th>\n",
       "      <td>1.539000</td>\n",
       "      <td>103.767500</td>\n",
       "      <td>290.356000</td>\n",
       "      <td>8.755616e+07</td>\n",
       "    </tr>\n",
       "  </tbody>\n",
       "</table>\n",
       "</div>"
      ],
      "text/plain": [
       "       WJFUELUSGULF      INDPRO  CUSR0000SETG01         Total\n",
       "count    366.000000  366.000000      366.000000  3.660000e+02\n",
       "mean       1.243087  103.106227      282.487194  7.763486e+07\n",
       "std        0.179889    0.315664        6.071190  5.998151e+06\n",
       "min        0.854000  102.526300      272.241000  6.551834e+07\n",
       "25%        1.093000  102.889225      276.511750  7.548815e+07\n",
       "50%        1.307000  103.145900      280.434000  7.860918e+07\n",
       "75%        1.387000  103.217300      288.306000  8.326352e+07\n",
       "max        1.539000  103.767500      290.356000  8.755616e+07"
      ]
     },
     "execution_count": 176,
     "metadata": {},
     "output_type": "execute_result"
    }
   ],
   "source": [
    "# Making DataFrame of explanatory variables\n",
    "expl = pd.concat([fuel_price, indpro, CPI_airline_fare, no_passengers['Total']], axis=1)\n",
    "expl.describe()"
   ]
  },
  {
   "cell_type": "markdown",
   "metadata": {},
   "source": [
    "Above is describtive statistics of our explanatory variables. We see that the variables are of somewhat different orders of magnitude. We will make adjustments in order to make the coefficients of the final result more easy to compare. The passenger numbers are very large. If we divide by one million the numbers will be in the millions instead. Moreover, we will rename the columns to be more easy to deal with."
   ]
  },
  {
   "cell_type": "code",
   "execution_count": 177,
   "metadata": {},
   "outputs": [
    {
     "data": {
      "text/html": [
       "<div>\n",
       "<style>\n",
       "    .dataframe thead tr:only-child th {\n",
       "        text-align: right;\n",
       "    }\n",
       "\n",
       "    .dataframe thead th {\n",
       "        text-align: left;\n",
       "    }\n",
       "\n",
       "    .dataframe tbody tr th {\n",
       "        vertical-align: top;\n",
       "    }\n",
       "</style>\n",
       "<table border=\"1\" class=\"dataframe\">\n",
       "  <thead>\n",
       "    <tr style=\"text-align: right;\">\n",
       "      <th></th>\n",
       "      <th>FUEL_PRICE</th>\n",
       "      <th>INDPRO</th>\n",
       "      <th>CPI</th>\n",
       "      <th>PASSENGERS</th>\n",
       "    </tr>\n",
       "  </thead>\n",
       "  <tbody>\n",
       "    <tr>\n",
       "      <th>count</th>\n",
       "      <td>366.000000</td>\n",
       "      <td>366.000000</td>\n",
       "      <td>366.000000</td>\n",
       "      <td>366.000000</td>\n",
       "    </tr>\n",
       "    <tr>\n",
       "      <th>mean</th>\n",
       "      <td>1.243087</td>\n",
       "      <td>103.106227</td>\n",
       "      <td>282.487194</td>\n",
       "      <td>77.634857</td>\n",
       "    </tr>\n",
       "    <tr>\n",
       "      <th>std</th>\n",
       "      <td>0.179889</td>\n",
       "      <td>0.315664</td>\n",
       "      <td>6.071190</td>\n",
       "      <td>5.998151</td>\n",
       "    </tr>\n",
       "    <tr>\n",
       "      <th>min</th>\n",
       "      <td>0.854000</td>\n",
       "      <td>102.526300</td>\n",
       "      <td>272.241000</td>\n",
       "      <td>65.518341</td>\n",
       "    </tr>\n",
       "    <tr>\n",
       "      <th>25%</th>\n",
       "      <td>1.093000</td>\n",
       "      <td>102.889225</td>\n",
       "      <td>276.511750</td>\n",
       "      <td>75.488154</td>\n",
       "    </tr>\n",
       "    <tr>\n",
       "      <th>50%</th>\n",
       "      <td>1.307000</td>\n",
       "      <td>103.145900</td>\n",
       "      <td>280.434000</td>\n",
       "      <td>78.609185</td>\n",
       "    </tr>\n",
       "    <tr>\n",
       "      <th>75%</th>\n",
       "      <td>1.387000</td>\n",
       "      <td>103.217300</td>\n",
       "      <td>288.306000</td>\n",
       "      <td>83.263517</td>\n",
       "    </tr>\n",
       "    <tr>\n",
       "      <th>max</th>\n",
       "      <td>1.539000</td>\n",
       "      <td>103.767500</td>\n",
       "      <td>290.356000</td>\n",
       "      <td>87.556163</td>\n",
       "    </tr>\n",
       "  </tbody>\n",
       "</table>\n",
       "</div>"
      ],
      "text/plain": [
       "       FUEL_PRICE      INDPRO         CPI  PASSENGERS\n",
       "count  366.000000  366.000000  366.000000  366.000000\n",
       "mean     1.243087  103.106227  282.487194   77.634857\n",
       "std      0.179889    0.315664    6.071190    5.998151\n",
       "min      0.854000  102.526300  272.241000   65.518341\n",
       "25%      1.093000  102.889225  276.511750   75.488154\n",
       "50%      1.307000  103.145900  280.434000   78.609185\n",
       "75%      1.387000  103.217300  288.306000   83.263517\n",
       "max      1.539000  103.767500  290.356000   87.556163"
      ]
     },
     "execution_count": 177,
     "metadata": {},
     "output_type": "execute_result"
    }
   ],
   "source": [
    "# Renaming of columns\n",
    "expl = expl.rename(columns={\"WJFUELUSGULF\":\"FUEL_PRICE\", \"CUSR0000SETG01\":\"CPI\",\\\n",
    "                     \"Total\":\"PASSENGERS\"})\n",
    "\n",
    "# Changing order of magnitude\n",
    "expl.loc[:, 'PASSENGERS'] = expl.loc[:, 'PASSENGERS'] * (1/1000000)\n",
    "\n",
    "expl.describe()"
   ]
  },
  {
   "cell_type": "markdown",
   "metadata": {},
   "source": [
    "Now we import the `statsmodels.regression.linear_model` namespace which contains the OLS (ordinary least squares) class we will be using. When constructing an instance of the model it is enough to just input the correct columnn from the American Airlines stock price `DataFrame` and the entire explanatory variables `DataFrame` as first and second argument, respectively."
   ]
  },
  {
   "cell_type": "code",
   "execution_count": 178,
   "metadata": {},
   "outputs": [
    {
     "data": {
      "text/html": [
       "<table class=\"simpletable\">\n",
       "<caption>OLS Regression Results</caption>\n",
       "<tr>\n",
       "  <th>Dep. Variable:</th>          <td>Close</td>      <th>  R-squared:         </th> <td>   0.991</td>\n",
       "</tr>\n",
       "<tr>\n",
       "  <th>Model:</th>                   <td>OLS</td>       <th>  Adj. R-squared:    </th> <td>   0.991</td>\n",
       "</tr>\n",
       "<tr>\n",
       "  <th>Method:</th>             <td>Least Squares</td>  <th>  F-statistic:       </th> <td>   9838.</td>\n",
       "</tr>\n",
       "<tr>\n",
       "  <th>Date:</th>             <td>Mon, 07 Aug 2017</td> <th>  Prob (F-statistic):</th>  <td>  0.00</td> \n",
       "</tr>\n",
       "<tr>\n",
       "  <th>Time:</th>                 <td>16:52:33</td>     <th>  Log-Likelihood:    </th> <td> -995.99</td>\n",
       "</tr>\n",
       "<tr>\n",
       "  <th>No. Observations:</th>      <td>   366</td>      <th>  AIC:               </th> <td>   2000.</td>\n",
       "</tr>\n",
       "<tr>\n",
       "  <th>Df Residuals:</th>          <td>   362</td>      <th>  BIC:               </th> <td>   2016.</td>\n",
       "</tr>\n",
       "<tr>\n",
       "  <th>Df Model:</th>              <td>     4</td>      <th>                     </th>     <td> </td>   \n",
       "</tr>\n",
       "<tr>\n",
       "  <th>Covariance Type:</th>      <td>nonrobust</td>    <th>                     </th>     <td> </td>   \n",
       "</tr>\n",
       "</table>\n",
       "<table class=\"simpletable\">\n",
       "<tr>\n",
       "       <td></td>         <th>coef</th>     <th>std err</th>      <th>t</th>      <th>P>|t|</th>  <th>[0.025</th>    <th>0.975]</th>  \n",
       "</tr>\n",
       "<tr>\n",
       "  <th>FUEL_PRICE</th> <td>   -9.3706</td> <td>    2.127</td> <td>   -4.406</td> <td> 0.000</td> <td>  -13.553</td> <td>   -5.188</td>\n",
       "</tr>\n",
       "<tr>\n",
       "  <th>INDPRO</th>     <td>    2.3053</td> <td>    0.157</td> <td>   14.708</td> <td> 0.000</td> <td>    1.997</td> <td>    2.614</td>\n",
       "</tr>\n",
       "<tr>\n",
       "  <th>CPI</th>        <td>   -0.5524</td> <td>    0.052</td> <td>  -10.523</td> <td> 0.000</td> <td>   -0.656</td> <td>   -0.449</td>\n",
       "</tr>\n",
       "<tr>\n",
       "  <th>PASSENGERS</th> <td>   -0.4099</td> <td>    0.040</td> <td>  -10.290</td> <td> 0.000</td> <td>   -0.488</td> <td>   -0.332</td>\n",
       "</tr>\n",
       "</table>\n",
       "<table class=\"simpletable\">\n",
       "<tr>\n",
       "  <th>Omnibus:</th>       <td>21.505</td> <th>  Durbin-Watson:     </th> <td>   0.056</td>\n",
       "</tr>\n",
       "<tr>\n",
       "  <th>Prob(Omnibus):</th> <td> 0.000</td> <th>  Jarque-Bera (JB):  </th> <td>  22.291</td>\n",
       "</tr>\n",
       "<tr>\n",
       "  <th>Skew:</th>          <td> 0.568</td> <th>  Prob(JB):          </th> <td>1.44e-05</td>\n",
       "</tr>\n",
       "<tr>\n",
       "  <th>Kurtosis:</th>      <td> 2.588</td> <th>  Cond. No.          </th> <td>3.42e+03</td>\n",
       "</tr>\n",
       "</table>"
      ],
      "text/plain": [
       "<class 'statsmodels.iolib.summary.Summary'>\n",
       "\"\"\"\n",
       "                            OLS Regression Results                            \n",
       "==============================================================================\n",
       "Dep. Variable:                  Close   R-squared:                       0.991\n",
       "Model:                            OLS   Adj. R-squared:                  0.991\n",
       "Method:                 Least Squares   F-statistic:                     9838.\n",
       "Date:                Mon, 07 Aug 2017   Prob (F-statistic):               0.00\n",
       "Time:                        16:52:33   Log-Likelihood:                -995.99\n",
       "No. Observations:                 366   AIC:                             2000.\n",
       "Df Residuals:                     362   BIC:                             2016.\n",
       "Df Model:                           4                                         \n",
       "Covariance Type:            nonrobust                                         \n",
       "==============================================================================\n",
       "                 coef    std err          t      P>|t|      [0.025      0.975]\n",
       "------------------------------------------------------------------------------\n",
       "FUEL_PRICE    -9.3706      2.127     -4.406      0.000     -13.553      -5.188\n",
       "INDPRO         2.3053      0.157     14.708      0.000       1.997       2.614\n",
       "CPI           -0.5524      0.052    -10.523      0.000      -0.656      -0.449\n",
       "PASSENGERS    -0.4099      0.040    -10.290      0.000      -0.488      -0.332\n",
       "==============================================================================\n",
       "Omnibus:                       21.505   Durbin-Watson:                   0.056\n",
       "Prob(Omnibus):                  0.000   Jarque-Bera (JB):               22.291\n",
       "Skew:                           0.568   Prob(JB):                     1.44e-05\n",
       "Kurtosis:                       2.588   Cond. No.                     3.42e+03\n",
       "==============================================================================\n",
       "\n",
       "Warnings:\n",
       "[1] Standard Errors assume that the covariance matrix of the errors is correctly specified.\n",
       "[2] The condition number is large, 3.42e+03. This might indicate that there are\n",
       "strong multicollinearity or other numerical problems.\n",
       "\"\"\""
      ]
     },
     "execution_count": 178,
     "metadata": {},
     "output_type": "execute_result"
    }
   ],
   "source": [
    "# Importing statsmodels\n",
    "from statsmodels.regression import linear_model\n",
    "\n",
    "# Initiating model\n",
    "model = linear_model.OLS(american_airlines.loc[:, 'Close'], expl)\n",
    "\n",
    "# Fitting\n",
    "res = model.fit()\n",
    "\n",
    "# Printing summary\n",
    "res.summary()"
   ]
  },
  {
   "cell_type": "code",
   "execution_count": 179,
   "metadata": {},
   "outputs": [
    {
     "data": {
      "image/png": "[encoded data removed]",
      "text/plain": [
       "<matplotlib.figure.Figure at 0x7fc95d9a0e80>"
      ]
     },
     "metadata": {},
     "output_type": "display_data"
    }
   ],
   "source": [
    "# Plotting\n",
    "predicted = res.predict(expl)\n",
    "actual = american_airlines.loc[:, 'Close']\n",
    "\n",
    "predicted.plot(label=\"Predicted\")\n",
    "actual.plot(label=\"Actual\")\n",
    "plt.legend()\n",
    "plt.title(\"2016 American Airlines OLS\")\n",
    "plt.show()"
   ]
  },
  {
   "cell_type": "markdown",
   "metadata": {
    "collapsed": true
   },
   "source": [
    "We are presented with several numbers, but will restrict our focus to a few of them, as a comprenhensive analysis into the validity of this regression is beyond the scope of this text. Firstly, let us look at the coefficitents of the explanatory variables. We see that the fuel price coefficient is negative, as we predicted. As the fuel price rises, the price of the stock falls. The coefficient of the industrial production is positive, which is also according to our reasoning prior to the analysis. However, this variable har a very high P-value and can therefore be insignificant. The price index for airline tickets has a negative sign. This is not in accordance with our initial thoughts, but may not be entirely illogical. If the prices of airline tickets increase it would be reasonable of consumers to buy less of them, affecting the stock price of American Airlines negatively. The coefficient for the number of passengers is, surprisingly, also negative. This is surpirsing because it implies that when more people travel by air, the stock price of American Airlines goes down. There can be several explanations for this. Any potential increase in passenger numbers may be because of a decrease of ticket prices. While the extra passengers is a good thing, the decreased prices is a bad thing. Moreover, if the number of passengers and the prices of tickets are corrolated in some way, as they reasonable are, it may not be a good idea to include both variables in the regression analysis. \n",
    "\n",
    "Overall, we see that the model has a very good fit, with an $r^2$ value of more than 90%. There are some sections where the model performs poorly, as can be seen in the plot.\n",
    "\n",
    "We will not try to improve the model any further here - econometric is just as much as artform as a science and this is usually a very difficult task. Trying to work out all the kinks can be a good exercise for a later time. We will, however, try to predict the stock price of American Airlins for the first quarter of 2017, using the model we \"trained\" on the data from 2016."
   ]
  },
  {
   "cell_type": "code",
   "execution_count": 180,
   "metadata": {},
   "outputs": [],
   "source": [
    "# Setting start and end dates for import\n",
    "new_start = datetime.datetime(2017, 1, 1)\n",
    "new_end = datetime.datetime(2017, 3, 31)\n",
    "\n",
    "# Importing out of sample test data\n",
    "aal_test = web.DataReader(\"AAL\", 'google', new_start, new_end)\n",
    "fuel_test = web.DataReader(\"WJFUELUSGULF\", 'fred', new_start, new_end)\n",
    "indpro_test = web.DataReader(\"INDPRO\", 'fred', new_start, new_end) \n",
    "CPI_test = web.DataReader(\"CUSR0000SETG01\", 'fred', new_start, new_end)\n",
    "passengers_test = web.DataReader(\"BTS/AIRPASS\", 'quandl', new_start, new_end)"
   ]
  },
  {
   "cell_type": "code",
   "execution_count": 181,
   "metadata": {},
   "outputs": [],
   "source": [
    "# Adjusting frequency of data and filling NaN's\n",
    "new_dates = pd.date_range(new_start, new_end, freq='D')\n",
    "new_dates.name = 'Date'\n",
    "\n",
    "aal_test = aal_test.reindex(new_dates, method='ffill')\n",
    "fuel_test = fuel_test.reindex(new_dates, method='ffill')\n",
    "indpro_test = indpro_test.reindex(new_dates, method='ffill')\n",
    "CPI_test = CPI_test.reindex(new_dates, method='ffill')\n",
    "passengers_test = passengers_test.reindex(new_dates, method='ffill')\n",
    "passengers_test = passengers_test * (1/1000000)\n",
    "\n",
    "aal_test = aal_test.fillna(method='bfill')\n",
    "fuel_test = fuel_test.fillna(method='bfill')"
   ]
  },
  {
   "cell_type": "code",
   "execution_count": 182,
   "metadata": {},
   "outputs": [
    {
     "data": {
      "image/png": "[encoded data removed]",
      "text/plain": [
       "<matplotlib.figure.Figure at 0x7fc95d908978>"
      ]
     },
     "metadata": {},
     "output_type": "display_data"
    }
   ],
   "source": [
    "# Using model to predict out of sample data\n",
    "expl_test = pd.concat([fuel_test, indpro_test, CPI_test, passengers_test['Total']], axis=1)\n",
    "predicted_test = res.predict(expl_test)\n",
    "actual_test = aal_test.loc[:, 'Close']\n",
    "\n",
    "# Plotting\n",
    "predicted_test.plot(label=\"Predicted\")\n",
    "actual_test.plot(label=\"Actual\")\n",
    "plt.legend()\n",
    "plt.title(\"Q1 2017, Out of Sample Test\")\n",
    "plt.show()"
   ]
  },
  {
   "cell_type": "markdown",
   "metadata": {},
   "source": [
    "Except for some movements in the right direction here and there, our model does quite horribly. We must accept the fact that we will probably not become millionaires trading American Airlines stock."
   ]
  },
  {
   "cell_type": "code",
   "execution_count": null,
   "metadata": {
    "collapsed": true
   },
   "outputs": [],
   "source": []
  }
 ],
 "metadata": {
  "kernelspec": {
   "display_name": "Python 3",
   "language": "python",
   "name": "python3"
  },
  "language_info": {
   "codemirror_mode": {
    "name": "ipython",
    "version": 3
   },
   "file_extension": ".py",
   "mimetype": "text/x-python",
   "name": "python",
   "nbconvert_exporter": "python",
   "pygments_lexer": "ipython3",
   "version": "3.6.1"
  }
 },
 "nbformat": 4,
 "nbformat_minor": 2
}
