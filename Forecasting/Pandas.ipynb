{
 "cells": [
  {
   "cell_type": "markdown",
   "metadata": {},
   "source": [
    "# Forecasting with pandas\n",
    "Pandas is an open-source library for Python which provides high-performance and easy-to-use data structures. It is widely used in finance and economics because of its time series data analysis capabilities. It also has functunality of reading from and writing to different file formats, reshaping and pivoting of data sets and data splicing, merging, joining and merging. The name \"pandas\" stems from \"panel data\", an econometrics term for  Moreover, a pandas spin-off called pandas-datareader allows one to easily import data from online servers. This includes, but is not limitied to, stock information from Yahoo! and Google, economic indicators from the World Bank and statistics from OECD and Eurostat.\n",
    "\n",
    "## Pandas datastructures\n",
    "DISCLAIMER: this section is somewhat tediuous.\n",
    "\n",
    "The pandas library makes use of some special data structures: `Series` and `DataFrame`. We will have a quick look at them now. First we need to import the necessities"
   ]
  },
  {
   "cell_type": "code",
   "execution_count": 40,
   "metadata": {
    "collapsed": true
   },
   "outputs": [],
   "source": [
    "import pandas as pd\n",
    "import numpy as np\n",
    "import matplotlib.pyplot as plt"
   ]
  },
  {
   "cell_type": "markdown",
   "metadata": {},
   "source": [
    "### Series\n",
    "\n",
    "`Series` is a one-dimensional labeled array capable of holding any data type. The axis lables are collectively reffered to as the **index**. Now to construct a series filled with random numbers and index them with letters."
   ]
  },
  {
   "cell_type": "code",
   "execution_count": 23,
   "metadata": {},
   "outputs": [
    {
     "data": {
      "text/plain": [
       "a    0.715136\n",
       "b    0.495262\n",
       "c   -1.470195\n",
       "d   -1.783993\n",
       "e    1.015452\n",
       "dtype: float64"
      ]
     },
     "execution_count": 23,
     "metadata": {},
     "output_type": "execute_result"
    }
   ],
   "source": [
    "# Construction Series\n",
    "s = pd.Series(np.random.randn(5), index=['a', 'b', 'c', 'd', 'e'])\n",
    "\n",
    "# Displaying\n",
    "s"
   ]
  },
  {
   "cell_type": "markdown",
   "metadata": {},
   "source": [
    "Numerous operations can be applied to this data structure."
   ]
  },
  {
   "cell_type": "code",
   "execution_count": 24,
   "metadata": {},
   "outputs": [
    {
     "data": {
      "text/plain": [
       "a             0.715136\n",
       "e             1.015452\n",
       "f             2.000000\n",
       "something    42.000000\n",
       "dtype: float64"
      ]
     },
     "execution_count": 24,
     "metadata": {},
     "output_type": "execute_result"
    }
   ],
   "source": [
    "# Setting a new value with index \"f\"\n",
    "s['f'] = 2\n",
    "\n",
    "# Setting a new value with index \"something\"\n",
    "s['something'] = 42\n",
    "\n",
    "# What do we have now?\n",
    "s\n",
    "\n",
    "# Displaying everything larger than 0.5\n",
    "s[s > 0.5]"
   ]
  },
  {
   "cell_type": "code",
   "execution_count": 25,
   "metadata": {},
   "outputs": [
    {
     "data": {
      "text/plain": [
       "count     7.000000\n",
       "mean      6.138809\n",
       "std      15.871028\n",
       "min      -1.783993\n",
       "25%      -0.487467\n",
       "50%       0.715136\n",
       "75%       1.507726\n",
       "max      42.000000\n",
       "dtype: float64"
      ]
     },
     "execution_count": 25,
     "metadata": {},
     "output_type": "execute_result"
    }
   ],
   "source": [
    "# Descriptive statistics\n",
    "s.describe()"
   ]
  },
  {
   "cell_type": "markdown",
   "metadata": {},
   "source": [
    "### DataFrame\n",
    "`DataFrame` is a 2-dimensional labeled data structure with columns of potentially different types. One can think of it like a spreadsheet or SQL table. Here is an example of use."
   ]
  },
  {
   "cell_type": "code",
   "execution_count": 26,
   "metadata": {},
   "outputs": [
    {
     "data": {
      "text/plain": [
       "DatetimeIndex(['2017-01-01', '2017-01-02', '2017-01-03', '2017-01-04',\n",
       "               '2017-01-05', '2017-01-06'],\n",
       "              dtype='datetime64[ns]', freq='D')"
      ]
     },
     "execution_count": 26,
     "metadata": {},
     "output_type": "execute_result"
    }
   ],
   "source": [
    "# Constructing DateTimeIndex object\n",
    "dates = pd.date_range('20170101', periods=6)\n",
    "\n",
    "# What is this?\n",
    "dates"
   ]
  },
  {
   "cell_type": "code",
   "execution_count": 27,
   "metadata": {},
   "outputs": [
    {
     "data": {
      "text/html": [
       "<div>\n",
       "<style>\n",
       "    .dataframe thead tr:only-child th {\n",
       "        text-align: right;\n",
       "    }\n",
       "\n",
       "    .dataframe thead th {\n",
       "        text-align: left;\n",
       "    }\n",
       "\n",
       "    .dataframe tbody tr th {\n",
       "        vertical-align: top;\n",
       "    }\n",
       "</style>\n",
       "<table border=\"1\" class=\"dataframe\">\n",
       "  <thead>\n",
       "    <tr style=\"text-align: right;\">\n",
       "      <th></th>\n",
       "      <th>A</th>\n",
       "      <th>B</th>\n",
       "      <th>C</th>\n",
       "      <th>D</th>\n",
       "    </tr>\n",
       "  </thead>\n",
       "  <tbody>\n",
       "    <tr>\n",
       "      <th>2017-01-01</th>\n",
       "      <td>0.064447</td>\n",
       "      <td>1.257437</td>\n",
       "      <td>-0.064547</td>\n",
       "      <td>-0.531393</td>\n",
       "    </tr>\n",
       "    <tr>\n",
       "      <th>2017-01-02</th>\n",
       "      <td>0.857991</td>\n",
       "      <td>-0.054488</td>\n",
       "      <td>-0.082684</td>\n",
       "      <td>-1.177214</td>\n",
       "    </tr>\n",
       "    <tr>\n",
       "      <th>2017-01-03</th>\n",
       "      <td>1.278102</td>\n",
       "      <td>-0.692164</td>\n",
       "      <td>1.057963</td>\n",
       "      <td>1.179457</td>\n",
       "    </tr>\n",
       "    <tr>\n",
       "      <th>2017-01-04</th>\n",
       "      <td>0.022923</td>\n",
       "      <td>0.680302</td>\n",
       "      <td>2.044884</td>\n",
       "      <td>-0.160848</td>\n",
       "    </tr>\n",
       "    <tr>\n",
       "      <th>2017-01-05</th>\n",
       "      <td>-0.338903</td>\n",
       "      <td>0.179928</td>\n",
       "      <td>-1.369569</td>\n",
       "      <td>-0.039407</td>\n",
       "    </tr>\n",
       "    <tr>\n",
       "      <th>2017-01-06</th>\n",
       "      <td>1.346018</td>\n",
       "      <td>1.481908</td>\n",
       "      <td>0.349840</td>\n",
       "      <td>-1.586526</td>\n",
       "    </tr>\n",
       "  </tbody>\n",
       "</table>\n",
       "</div>"
      ],
      "text/plain": [
       "                   A         B         C         D\n",
       "2017-01-01  0.064447  1.257437 -0.064547 -0.531393\n",
       "2017-01-02  0.857991 -0.054488 -0.082684 -1.177214\n",
       "2017-01-03  1.278102 -0.692164  1.057963  1.179457\n",
       "2017-01-04  0.022923  0.680302  2.044884 -0.160848\n",
       "2017-01-05 -0.338903  0.179928 -1.369569 -0.039407\n",
       "2017-01-06  1.346018  1.481908  0.349840 -1.586526"
      ]
     },
     "execution_count": 27,
     "metadata": {},
     "output_type": "execute_result"
    }
   ],
   "source": [
    "# Constructing DataFrame\n",
    "df = pd.DataFrame(np.random.randn(6,4), index=dates, columns=list('ABCD'))\n",
    "\n",
    "# Showing\n",
    "df"
   ]
  },
  {
   "cell_type": "code",
   "execution_count": 28,
   "metadata": {},
   "outputs": [
    {
     "data": {
      "text/html": [
       "<div>\n",
       "<style>\n",
       "    .dataframe thead tr:only-child th {\n",
       "        text-align: right;\n",
       "    }\n",
       "\n",
       "    .dataframe thead th {\n",
       "        text-align: left;\n",
       "    }\n",
       "\n",
       "    .dataframe tbody tr th {\n",
       "        vertical-align: top;\n",
       "    }\n",
       "</style>\n",
       "<table border=\"1\" class=\"dataframe\">\n",
       "  <thead>\n",
       "    <tr style=\"text-align: right;\">\n",
       "      <th></th>\n",
       "      <th>A</th>\n",
       "      <th>B</th>\n",
       "      <th>C</th>\n",
       "      <th>D</th>\n",
       "    </tr>\n",
       "  </thead>\n",
       "  <tbody>\n",
       "    <tr>\n",
       "      <th>count</th>\n",
       "      <td>6.000000</td>\n",
       "      <td>6.000000</td>\n",
       "      <td>6.000000</td>\n",
       "      <td>6.000000</td>\n",
       "    </tr>\n",
       "    <tr>\n",
       "      <th>mean</th>\n",
       "      <td>0.538430</td>\n",
       "      <td>0.475487</td>\n",
       "      <td>0.322648</td>\n",
       "      <td>-0.385989</td>\n",
       "    </tr>\n",
       "    <tr>\n",
       "      <th>std</th>\n",
       "      <td>0.715759</td>\n",
       "      <td>0.824368</td>\n",
       "      <td>1.156316</td>\n",
       "      <td>0.970556</td>\n",
       "    </tr>\n",
       "    <tr>\n",
       "      <th>min</th>\n",
       "      <td>-0.338903</td>\n",
       "      <td>-0.692164</td>\n",
       "      <td>-1.369569</td>\n",
       "      <td>-1.586526</td>\n",
       "    </tr>\n",
       "    <tr>\n",
       "      <th>25%</th>\n",
       "      <td>0.033304</td>\n",
       "      <td>0.004116</td>\n",
       "      <td>-0.078150</td>\n",
       "      <td>-1.015759</td>\n",
       "    </tr>\n",
       "    <tr>\n",
       "      <th>50%</th>\n",
       "      <td>0.461219</td>\n",
       "      <td>0.430115</td>\n",
       "      <td>0.142646</td>\n",
       "      <td>-0.346120</td>\n",
       "    </tr>\n",
       "    <tr>\n",
       "      <th>75%</th>\n",
       "      <td>1.173074</td>\n",
       "      <td>1.113153</td>\n",
       "      <td>0.880932</td>\n",
       "      <td>-0.069768</td>\n",
       "    </tr>\n",
       "    <tr>\n",
       "      <th>max</th>\n",
       "      <td>1.346018</td>\n",
       "      <td>1.481908</td>\n",
       "      <td>2.044884</td>\n",
       "      <td>1.179457</td>\n",
       "    </tr>\n",
       "  </tbody>\n",
       "</table>\n",
       "</div>"
      ],
      "text/plain": [
       "              A         B         C         D\n",
       "count  6.000000  6.000000  6.000000  6.000000\n",
       "mean   0.538430  0.475487  0.322648 -0.385989\n",
       "std    0.715759  0.824368  1.156316  0.970556\n",
       "min   -0.338903 -0.692164 -1.369569 -1.586526\n",
       "25%    0.033304  0.004116 -0.078150 -1.015759\n",
       "50%    0.461219  0.430115  0.142646 -0.346120\n",
       "75%    1.173074  1.113153  0.880932 -0.069768\n",
       "max    1.346018  1.481908  2.044884  1.179457"
      ]
     },
     "execution_count": 28,
     "metadata": {},
     "output_type": "execute_result"
    }
   ],
   "source": [
    "# Show statistic summary of data\n",
    "df.describe()"
   ]
  },
  {
   "cell_type": "code",
   "execution_count": 29,
   "metadata": {},
   "outputs": [
    {
     "data": {
      "text/html": [
       "<div>\n",
       "<style>\n",
       "    .dataframe thead tr:only-child th {\n",
       "        text-align: right;\n",
       "    }\n",
       "\n",
       "    .dataframe thead th {\n",
       "        text-align: left;\n",
       "    }\n",
       "\n",
       "    .dataframe tbody tr th {\n",
       "        vertical-align: top;\n",
       "    }\n",
       "</style>\n",
       "<table border=\"1\" class=\"dataframe\">\n",
       "  <thead>\n",
       "    <tr style=\"text-align: right;\">\n",
       "      <th></th>\n",
       "      <th>A</th>\n",
       "      <th>B</th>\n",
       "      <th>C</th>\n",
       "      <th>D</th>\n",
       "    </tr>\n",
       "  </thead>\n",
       "  <tbody>\n",
       "    <tr>\n",
       "      <th>2017-01-03</th>\n",
       "      <td>1.278102</td>\n",
       "      <td>-0.692164</td>\n",
       "      <td>1.057963</td>\n",
       "      <td>1.179457</td>\n",
       "    </tr>\n",
       "    <tr>\n",
       "      <th>2017-01-02</th>\n",
       "      <td>0.857991</td>\n",
       "      <td>-0.054488</td>\n",
       "      <td>-0.082684</td>\n",
       "      <td>-1.177214</td>\n",
       "    </tr>\n",
       "    <tr>\n",
       "      <th>2017-01-05</th>\n",
       "      <td>-0.338903</td>\n",
       "      <td>0.179928</td>\n",
       "      <td>-1.369569</td>\n",
       "      <td>-0.039407</td>\n",
       "    </tr>\n",
       "    <tr>\n",
       "      <th>2017-01-04</th>\n",
       "      <td>0.022923</td>\n",
       "      <td>0.680302</td>\n",
       "      <td>2.044884</td>\n",
       "      <td>-0.160848</td>\n",
       "    </tr>\n",
       "    <tr>\n",
       "      <th>2017-01-01</th>\n",
       "      <td>0.064447</td>\n",
       "      <td>1.257437</td>\n",
       "      <td>-0.064547</td>\n",
       "      <td>-0.531393</td>\n",
       "    </tr>\n",
       "    <tr>\n",
       "      <th>2017-01-06</th>\n",
       "      <td>1.346018</td>\n",
       "      <td>1.481908</td>\n",
       "      <td>0.349840</td>\n",
       "      <td>-1.586526</td>\n",
       "    </tr>\n",
       "  </tbody>\n",
       "</table>\n",
       "</div>"
      ],
      "text/plain": [
       "                   A         B         C         D\n",
       "2017-01-03  1.278102 -0.692164  1.057963  1.179457\n",
       "2017-01-02  0.857991 -0.054488 -0.082684 -1.177214\n",
       "2017-01-05 -0.338903  0.179928 -1.369569 -0.039407\n",
       "2017-01-04  0.022923  0.680302  2.044884 -0.160848\n",
       "2017-01-01  0.064447  1.257437 -0.064547 -0.531393\n",
       "2017-01-06  1.346018  1.481908  0.349840 -1.586526"
      ]
     },
     "execution_count": 29,
     "metadata": {},
     "output_type": "execute_result"
    }
   ],
   "source": [
    "# Sorting by value\n",
    "df.sort_values(by='B')"
   ]
  },
  {
   "cell_type": "code",
   "execution_count": 30,
   "metadata": {},
   "outputs": [
    {
     "data": {
      "text/html": [
       "<div>\n",
       "<style>\n",
       "    .dataframe thead tr:only-child th {\n",
       "        text-align: right;\n",
       "    }\n",
       "\n",
       "    .dataframe thead th {\n",
       "        text-align: left;\n",
       "    }\n",
       "\n",
       "    .dataframe tbody tr th {\n",
       "        vertical-align: top;\n",
       "    }\n",
       "</style>\n",
       "<table border=\"1\" class=\"dataframe\">\n",
       "  <thead>\n",
       "    <tr style=\"text-align: right;\">\n",
       "      <th></th>\n",
       "      <th>B</th>\n",
       "      <th>D</th>\n",
       "    </tr>\n",
       "  </thead>\n",
       "  <tbody>\n",
       "    <tr>\n",
       "      <th>2017-01-02</th>\n",
       "      <td>-0.054488</td>\n",
       "      <td>-1.177214</td>\n",
       "    </tr>\n",
       "    <tr>\n",
       "      <th>2017-01-03</th>\n",
       "      <td>-0.692164</td>\n",
       "      <td>1.179457</td>\n",
       "    </tr>\n",
       "    <tr>\n",
       "      <th>2017-01-04</th>\n",
       "      <td>0.680302</td>\n",
       "      <td>-0.160848</td>\n",
       "    </tr>\n",
       "  </tbody>\n",
       "</table>\n",
       "</div>"
      ],
      "text/plain": [
       "                   B         D\n",
       "2017-01-02 -0.054488 -1.177214\n",
       "2017-01-03 -0.692164  1.179457\n",
       "2017-01-04  0.680302 -0.160848"
      ]
     },
     "execution_count": 30,
     "metadata": {},
     "output_type": "execute_result"
    }
   ],
   "source": [
    "# Label slicing\n",
    "df.loc['20170102':'20170104', ['B','D']]"
   ]
  },
  {
   "cell_type": "markdown",
   "metadata": {},
   "source": [
    "## Importing Stock Data with pandas-datareader\n",
    "`pandas-datareader` is enables one to import data from online databases such as Yahoo! Finance, Google Finace, Quandl, FRED, OECD and the World Bank. Functions from `pandas_datareader.data` and `pandas_datareader.wb` extract the data from the various Internet source into a pandas `DataFrame`. As a first exampel, let us get historical stock prices from Yahoo! Finance. "
   ]
  },
  {
   "cell_type": "code",
   "execution_count": 16,
   "metadata": {},
   "outputs": [
    {
     "name": "stdout",
     "output_type": "stream",
     "text": [
      "American Airlines\n"
     ]
    },
    {
     "data": {
      "text/plain": [
       "Open           38.39\n",
       "High           38.78\n",
       "Low            37.55\n",
       "Close          37.63\n",
       "Volume    9065626.00\n",
       "Name: 2016-10-04 00:00:00, dtype: float64"
      ]
     },
     "execution_count": 16,
     "metadata": {},
     "output_type": "execute_result"
    }
   ],
   "source": [
    "import pandas_datareader.data as web\n",
    "import datetime\n",
    "\n",
    "# Start and end date for data import.\n",
    "start_date = datetime.datetime(2016, 1, 1)\n",
    "end_date = datetime.datetime(2017, 1, 1)\n",
    "\n",
    "# Importing data. \n",
    "# First and second argument is stock ticker and source respectivelye\n",
    "american_airlines = web.DataReader(\"AAL\", 'google', start_date, end_date)\n",
    "\n",
    "# Showing data from a particular day\n",
    "print(\"American Airlines\")\n",
    "american_airlines.loc['20161004']"
   ]
  },
  {
   "cell_type": "code",
   "execution_count": 27,
   "metadata": {},
   "outputs": [
    {
     "data": {
      "image/png": "[encoded data removed]",
      "text/plain": [
       "<matplotlib.figure.Figure at 0x7f4473646ac8>"
      ]
     },
     "metadata": {},
     "output_type": "display_data"
    }
   ],
   "source": [
    "from matplotlib import pyplot as plt\n",
    "\n",
    "# Plotting close, high and low for December 2016\n",
    "american_airlines.loc['20161201':'20161231',['Open', 'Close', 'High', 'Low']].plot()\n",
    "plt.title(\"American Airlines, Dec 2016\")\n",
    "plt.show()"
   ]
  },
  {
   "cell_type": "markdown",
   "metadata": {},
   "source": [
    "This plot shows the opening and closing price of the stock, as well as the highest and lowest price during the day, for American airways in December of 2016. This plot is very messy, which why a \"candlestick\" plot is very common when plotting historical stock prices. This can be a bit tricky, as there is no built-in function in `pandas`, but is definitely possible. One must convert the dates to float values instead and use `matplotlib`."
   ]
  },
  {
   "cell_type": "code",
   "execution_count": 83,
   "metadata": {},
   "outputs": [
    {
     "data": {
      "image/png": "[encoded data removed]",
      "text/plain": [
       "<matplotlib.figure.Figure at 0x7f447211ecf8>"
      ]
     },
     "metadata": {},
     "output_type": "display_data"
    }
   ],
   "source": [
    "# Importing\n",
    "from matplotlib.finance import candlestick_ohlc\n",
    "from matplotlib import dates as mdates\n",
    "\n",
    "# Creating new DataFrame for plotting Open, High, Low, Close candlesticks\n",
    "aal_ohlc = american_airlines['20161201':'20161231'].reset_index()\n",
    "\n",
    "# Removing volume column\n",
    "aal_ohlc.loc[:,['Date', 'Open', 'High', 'Low', 'Close']]\n",
    "\n",
    "# Converting dates column to float values\n",
    "aal_ohlc['Date'] = aal_ohlc['Date'].map(mdates.date2num)\n",
    "\n",
    "# Creating something to plot on\n",
    "fig, ax = plt.subplots()\n",
    "\n",
    "# Configuring x-axis to show dates\n",
    "ax.xaxis_date()\n",
    "\n",
    "# Plotting\n",
    "candlestick_ohlc(ax, aal_ohlc.values)\n",
    "plt.title(\"American Airlines, Candlestick, Dec '16\")\n",
    "\n",
    "plt.show()\n"
   ]
  },
  {
   "cell_type": "markdown",
   "metadata": {},
   "source": [
    "This chart gives the same information to the analyst than as the one above. Each day is represented by a candlestick with a thick center (wax) and thin lines (wick) at the top and/or bottom. They also come in different colours; in this case they are red and black, but they may also be red and green, black and white or something else. A red candlestick, in this case, indicates that the stock has depreciated during the day (fallen), and a black candlestick indicates that the stock has appreciated (risen). The \"wax\" of the candlestick gives the opening and closing price of the stock. If the stock has the apprecieated the opening price is at the bottom of the wax and closing price on top. Vice versa for a depreciated stock; opening price on top of the wax and closing at the bottom. The ends of the \"wicks\" of the candlessticks indicates the highes and lowest stock price during intraday trading. This kind of chart may seem a bit strange the first time you see it, but one quickly becomes accustomed to it and realises the ease of used compared to the more traditional line plot above."
   ]
  },
  {
   "cell_type": "code",
   "execution_count": null,
   "metadata": {
    "collapsed": true
   },
   "outputs": [],
   "source": []
  }
 ],
 "metadata": {
  "kernelspec": {
   "display_name": "Python 3",
   "language": "python",
   "name": "python3"
  },
  "language_info": {
   "codemirror_mode": {
    "name": "ipython",
    "version": 3
   },
   "file_extension": ".py",
   "mimetype": "text/x-python",
   "name": "python",
   "nbconvert_exporter": "python",
   "pygments_lexer": "ipython3",
   "version": "3.6.1"
  }
 },
 "nbformat": 4,
 "nbformat_minor": 2
}
