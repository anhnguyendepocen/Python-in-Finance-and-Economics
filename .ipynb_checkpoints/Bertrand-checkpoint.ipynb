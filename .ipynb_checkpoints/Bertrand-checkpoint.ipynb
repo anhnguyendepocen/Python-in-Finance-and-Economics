{
 "cells": [
  {
   "cell_type": "markdown",
   "metadata": {},
   "source": [
    "# Price Competition - Airlines\n",
    "Consider two companies competing on price. The goods (or services) the companies are providing are completely homogenous - they are completely identical. A good example of such a market is the market for economy airline tickets. Most consumers purchasing economy airline tickets is only interested in getting from A to B, and usually have no loyalty or preference in the choice of airline. As a consequence, we assume that the consumer will purchase whichever airline ticket is cheapest. This would typically lead to very low, if any, profit margins for airlines.\n",
    "\n",
    "## Demand Function Construction\n",
    "Consider a world where everything that exitst are two airlines and 500 consumers. Each of the airlines have one airplane with 100 passenger seats each. Every consumers has some wealth, and since the only thing they can do in this world is to buy airline tickets they will if they can afford one. "
   ]
  },
  {
   "cell_type": "code",
   "execution_count": 1,
   "metadata": {
    "collapsed": false
   },
   "outputs": [],
   "source": [
    "# Importing packages\n",
    "import numpy as np\n",
    "from matplotlib import pyplot as plt\n",
    "\n",
    "# Variables\n",
    "no_of_consumers = 300\n",
    "max_price = 100\n",
    "min_price = 20\n",
    "\n",
    "# Assigning random consumer bid prices\n",
    "demand = np.random.uniform(max_price, min_price, no_of_consumers)"
   ]
  },
  {
   "cell_type": "markdown",
   "metadata": {},
   "source": [
    "Now we have the size of the airplanes and some bidding prices for all consumers in the market. Before we can look at how the market clears, we should study the demand function. The demand is simply the number of  airline tickets that will be sold at a given price. So any consumer facing a market price below or equal to their preferred price will buy a ticket."
   ]
  },
  {
   "cell_type": "code",
   "execution_count": 2,
   "metadata": {
    "collapsed": false
   },
   "outputs": [
    {
     "data": {
      "image/png": "[encoded data removed]",
      "text/plain": [
       "<matplotlib.figure.Figure at 0x7fbfb56cf2b0>"
      ]
     },
     "metadata": {},
     "output_type": "display_data"
    }
   ],
   "source": [
    "#Constructing demand function\n",
    "cummulative_demand = np.zeros(max_price - min_price)\n",
    "\n",
    "i = 0\n",
    "for price in range(min_price, max_price):\n",
    "\n",
    "    cummulative_demand[i] = sum(price <= bid for bid in demand)\n",
    "    i += 1\n",
    "\n",
    "# Plotting the demand curve\n",
    "plt.plot(cummulative_demand, range(min_price, max_price))\n",
    "plt.xlabel(\"Q\")\n",
    "plt.ylabel(\"P\")\n",
    "plt.title(\"Demand for Airline Tickets\")\n",
    "plt.show()"
   ]
  },
  {
   "cell_type": "markdown",
   "metadata": {
    "collapsed": true
   },
   "source": [
    "We see that we get a fairly straight line, which is due to the uniformly distributed prices. Moreover, demand is falling as price increases, which is reasonable.\n",
    "\n",
    "## Playing the Airline Game\n",
    "Now that we have the demand for airline seats, it is ut to the two airlines to set their prices. "
   ]
  },
  {
   "cell_type": "code",
   "execution_count": 3,
   "metadata": {
    "collapsed": false
   },
   "outputs": [
    {
     "name": "stdout",
     "output_type": "stream",
     "text": [
      "             Airline 1 Airline 2\n",
      "Ticket Price       75       80\n",
      "Empty seats         9      100\n",
      "Revenue          6825        0\n",
      "             Airline 1 Airline 2\n",
      "Ticket Price       90       80\n",
      "Empty seats       100       30\n",
      "Revenue             0     5600\n",
      "             Airline 1 Airline 2\n",
      "Ticket Price       66       50\n",
      "Empty seats        42        0\n",
      "Revenue          3828     5000\n"
     ]
    }
   ],
   "source": [
    "# Function that determines the revenue and no of filled seats\n",
    "def sell_tickets(airline_1_price, airline_2_price, demand):\n",
    "    \n",
    "    # Available seats\n",
    "    seats_in_flight = 100\n",
    "    airline_1_seats = seats_in_flight\n",
    "    airline_2_seats = seats_in_flight\n",
    "    total_seats = airline_1_seats + airline_2_seats\n",
    "    consumer_bids = demand\n",
    "    \n",
    "    for bid in consumer_bids:\n",
    "    \n",
    "        # Will stop searching for available seats if there are none.\n",
    "        if (total_seats <= 0):\n",
    "            break\n",
    "        \n",
    "        # Both airlines have empty seats\n",
    "        if (airline_1_seats > 0 and airline_2_seats > 0):\n",
    "        \n",
    "            # Airline 1 is cheapest\n",
    "            if (airline_1_price <= airline_2_price):\n",
    "                if (bid >= airline_1_price):\n",
    "                    airline_1_seats -= 1\n",
    "                    total_seats -= 1\n",
    "            # Airline 2 is cheapest\n",
    "            else:\n",
    "                if (bid >= airline_2_price):\n",
    "                    airline_2_seats -= 1\n",
    "                    total_seats -=1\n",
    "    \n",
    "        # Only airline 1 has empty seats\n",
    "        elif (airline_1_seats > 0 and airline_2_seats == 0):\n",
    "        \n",
    "            if (bid >= airline_1_price):\n",
    "                airline_1_seats -= 1\n",
    "                total_seats -= 1\n",
    "    \n",
    "        # Only airline 2 has empty seats\n",
    "        elif (airline_2_seats > 0 and airline_1_seats == 0):\n",
    "        \n",
    "            if (bid >= airline_2_price):\n",
    "                airline_2_seats -= 1\n",
    "                total_seats -=1       \n",
    "    \n",
    "    revenue_1 = (seats_in_flight - airline_1_seats)*price_1\n",
    "    revenue_2 = (seats_in_flight - airline_2_seats)*price_2\n",
    "\n",
    "    print(\"{:12s} {:8s} {:8s}\" .format(\"\", \"Airline 1\", \"Airline 2\"))\n",
    "    print(\"{:12s} {:8d} {:8d}\" .format(\"Ticket Price\", price_1, price_2))\n",
    "    print(\"{:12s} {:8d} {:8d}\" .format(\"Empty seats\", airline_1_seats, airline_2_seats))\n",
    "    print(\"{:12s} {:8d} {:8d}\" .format(\"Revenue\",  revenue_1, revenue_2))\n",
    "\n",
    "# Playing the airline game\n",
    "price_1 = 75\n",
    "price_2 = 80\n",
    "sell_tickets(price_1, price_2, demand)\n",
    "\n",
    "price_1 = 90\n",
    "price_2 = 80\n",
    "sell_tickets(price_1, price_2, demand)\n",
    "\n",
    "price_1 = 66\n",
    "price_2 = 50\n",
    "sell_tickets(price_1, price_2, demand)\n"
   ]
  },
  {
   "cell_type": "markdown",
   "metadata": {
    "collapsed": true
   },
   "source": [
    "According to the theory, the one who sets the lowest price gets all the customers. The problem here is that the availability of tickets is also scarce. \n",
    "\n",
    "I have run three example games of how this might play out. In the first game Airline 1 sets ticket price to 75 and Airline 2 sets the ticket price to 80. The outcome of the game is that Airline 1 has a nearly full plane, while Airline 2 sells no tickets at all. I leave it to the reader to play around with this."
   ]
  }
 ],
 "metadata": {
  "kernelspec": {
   "display_name": "Python 3",
   "language": "python",
   "name": "python3"
  },
  "language_info": {
   "codemirror_mode": {
    "name": "ipython",
    "version": 3
   },
   "file_extension": ".py",
   "mimetype": "text/x-python",
   "name": "python",
   "nbconvert_exporter": "python",
   "pygments_lexer": "ipython3",
   "version": "3.6.0"
  }
 },
 "nbformat": 4,
 "nbformat_minor": 2
}
